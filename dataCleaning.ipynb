{
 "cells": [
  {
   "cell_type": "code",
   "execution_count": 31,
   "id": "c73d18ca",
   "metadata": {},
   "outputs": [
    {
     "name": "stderr",
     "output_type": "stream",
     "text": [
      "/var/folders/8y/g9dn_v3953j0q8tjpk2n5jgc0000gn/T/ipykernel_11606/3663292594.py:4: DtypeWarning: Columns (4,5,11,12) have mixed types. Specify dtype option on import or set low_memory=False.\n",
      "  data = pd.read_csv(\"india-food-prices.csv\")\n"
     ]
    },
    {
     "data": {
      "text/html": [
       "<div>\n",
       "<style scoped>\n",
       "    .dataframe tbody tr th:only-of-type {\n",
       "        vertical-align: middle;\n",
       "    }\n",
       "\n",
       "    .dataframe tbody tr th {\n",
       "        vertical-align: top;\n",
       "    }\n",
       "\n",
       "    .dataframe thead th {\n",
       "        text-align: right;\n",
       "    }\n",
       "</style>\n",
       "<table border=\"1\" class=\"dataframe\">\n",
       "  <thead>\n",
       "    <tr style=\"text-align: right;\">\n",
       "      <th></th>\n",
       "      <th>date</th>\n",
       "      <th>admin1</th>\n",
       "      <th>admin2</th>\n",
       "      <th>market</th>\n",
       "      <th>latitude</th>\n",
       "      <th>longitude</th>\n",
       "      <th>category</th>\n",
       "      <th>commodity</th>\n",
       "      <th>unit</th>\n",
       "      <th>pricetype</th>\n",
       "      <th>currency</th>\n",
       "      <th>price</th>\n",
       "      <th>usdprice</th>\n",
       "    </tr>\n",
       "  </thead>\n",
       "  <tbody>\n",
       "    <tr>\n",
       "      <th>count</th>\n",
       "      <td>133138</td>\n",
       "      <td>132349</td>\n",
       "      <td>132349</td>\n",
       "      <td>133138</td>\n",
       "      <td>132349</td>\n",
       "      <td>132349</td>\n",
       "      <td>133138</td>\n",
       "      <td>133138</td>\n",
       "      <td>133138</td>\n",
       "      <td>133138</td>\n",
       "      <td>133138</td>\n",
       "      <td>133138</td>\n",
       "      <td>133138</td>\n",
       "    </tr>\n",
       "    <tr>\n",
       "      <th>unique</th>\n",
       "      <td>332</td>\n",
       "      <td>32</td>\n",
       "      <td>150</td>\n",
       "      <td>157</td>\n",
       "      <td>210</td>\n",
       "      <td>206</td>\n",
       "      <td>7</td>\n",
       "      <td>24</td>\n",
       "      <td>4</td>\n",
       "      <td>2</td>\n",
       "      <td>2</td>\n",
       "      <td>23995</td>\n",
       "      <td>2874</td>\n",
       "    </tr>\n",
       "    <tr>\n",
       "      <th>top</th>\n",
       "      <td>2021-06-15</td>\n",
       "      <td>Uttar Pradesh</td>\n",
       "      <td>Mumbai city</td>\n",
       "      <td>Mumbai</td>\n",
       "      <td>18.975</td>\n",
       "      <td>72.825833</td>\n",
       "      <td>cereals and tubers</td>\n",
       "      <td>Rice</td>\n",
       "      <td>KG</td>\n",
       "      <td>actual</td>\n",
       "      <td>INR</td>\n",
       "      <td>16.0</td>\n",
       "      <td>0.27</td>\n",
       "    </tr>\n",
       "    <tr>\n",
       "      <th>freq</th>\n",
       "      <td>2941</td>\n",
       "      <td>9661</td>\n",
       "      <td>4112</td>\n",
       "      <td>4112</td>\n",
       "      <td>2920</td>\n",
       "      <td>2920</td>\n",
       "      <td>33234</td>\n",
       "      <td>10573</td>\n",
       "      <td>123716</td>\n",
       "      <td>133137</td>\n",
       "      <td>133137</td>\n",
       "      <td>1393</td>\n",
       "      <td>1241</td>\n",
       "    </tr>\n",
       "  </tbody>\n",
       "</table>\n",
       "</div>"
      ],
      "text/plain": [
       "              date         admin1       admin2  market latitude  longitude  \\\n",
       "count       133138         132349       132349  133138   132349     132349   \n",
       "unique         332             32          150     157      210        206   \n",
       "top     2021-06-15  Uttar Pradesh  Mumbai city  Mumbai   18.975  72.825833   \n",
       "freq          2941           9661         4112    4112     2920       2920   \n",
       "\n",
       "                  category commodity    unit pricetype currency   price  \\\n",
       "count               133138    133138  133138    133138   133138  133138   \n",
       "unique                   7        24       4         2        2   23995   \n",
       "top     cereals and tubers      Rice      KG    actual      INR    16.0   \n",
       "freq                 33234     10573  123716    133137   133137    1393   \n",
       "\n",
       "       usdprice  \n",
       "count    133138  \n",
       "unique     2874  \n",
       "top        0.27  \n",
       "freq       1241  "
      ]
     },
     "execution_count": 31,
     "metadata": {},
     "output_type": "execute_result"
    }
   ],
   "source": [
    "import numpy as np\n",
    "import pandas as pd\n",
    "\n",
    "data = pd.read_csv(\"india-food-prices.csv\")\n",
    "data.head()\n",
    "x=data[\"date\"]\n",
    "y=data[\"price\"]\n",
    "data.describe()\n"
   ]
  },
  {
   "cell_type": "code",
   "execution_count": 32,
   "id": "f4a61acb",
   "metadata": {},
   "outputs": [],
   "source": [
    "data.drop(['admin1','admin2','category','unit','pricetype','currency'],axis=1,inplace=True)\n",
    "data.drop(['latitude','longitude'],axis=1,inplace=True)\n"
   ]
  },
  {
   "cell_type": "code",
   "execution_count": 33,
   "id": "f95af09c",
   "metadata": {},
   "outputs": [
    {
     "data": {
      "text/html": [
       "<div>\n",
       "<style scoped>\n",
       "    .dataframe tbody tr th:only-of-type {\n",
       "        vertical-align: middle;\n",
       "    }\n",
       "\n",
       "    .dataframe tbody tr th {\n",
       "        vertical-align: top;\n",
       "    }\n",
       "\n",
       "    .dataframe thead th {\n",
       "        text-align: right;\n",
       "    }\n",
       "</style>\n",
       "<table border=\"1\" class=\"dataframe\">\n",
       "  <thead>\n",
       "    <tr style=\"text-align: right;\">\n",
       "      <th></th>\n",
       "      <th>date</th>\n",
       "      <th>market</th>\n",
       "      <th>commodity</th>\n",
       "      <th>price</th>\n",
       "      <th>usdprice</th>\n",
       "    </tr>\n",
       "  </thead>\n",
       "  <tbody>\n",
       "    <tr>\n",
       "      <th>0</th>\n",
       "      <td>#date</td>\n",
       "      <td>#loc+market+name</td>\n",
       "      <td>#item+name</td>\n",
       "      <td>#value</td>\n",
       "      <td>#value+usd</td>\n",
       "    </tr>\n",
       "    <tr>\n",
       "      <th>1</th>\n",
       "      <td>1994-01-15</td>\n",
       "      <td>Delhi</td>\n",
       "      <td>Rice</td>\n",
       "      <td>8.0</td>\n",
       "      <td>0.25</td>\n",
       "    </tr>\n",
       "    <tr>\n",
       "      <th>2</th>\n",
       "      <td>1994-01-15</td>\n",
       "      <td>Delhi</td>\n",
       "      <td>Wheat</td>\n",
       "      <td>5.0</td>\n",
       "      <td>0.16</td>\n",
       "    </tr>\n",
       "    <tr>\n",
       "      <th>3</th>\n",
       "      <td>1994-01-15</td>\n",
       "      <td>Delhi</td>\n",
       "      <td>Sugar</td>\n",
       "      <td>13.5</td>\n",
       "      <td>0.43</td>\n",
       "    </tr>\n",
       "    <tr>\n",
       "      <th>4</th>\n",
       "      <td>1994-01-15</td>\n",
       "      <td>Delhi</td>\n",
       "      <td>Oil (mustard)</td>\n",
       "      <td>31.0</td>\n",
       "      <td>0.99</td>\n",
       "    </tr>\n",
       "  </tbody>\n",
       "</table>\n",
       "</div>"
      ],
      "text/plain": [
       "         date            market      commodity   price    usdprice\n",
       "0       #date  #loc+market+name     #item+name  #value  #value+usd\n",
       "1  1994-01-15             Delhi           Rice     8.0        0.25\n",
       "2  1994-01-15             Delhi          Wheat     5.0        0.16\n",
       "3  1994-01-15             Delhi          Sugar    13.5        0.43\n",
       "4  1994-01-15             Delhi  Oil (mustard)    31.0        0.99"
      ]
     },
     "execution_count": 33,
     "metadata": {},
     "output_type": "execute_result"
    }
   ],
   "source": [
    "data.head()\n",
    "\n"
   ]
  },
  {
   "cell_type": "code",
   "execution_count": 34,
   "id": "8820cf55",
   "metadata": {},
   "outputs": [
    {
     "data": {
      "text/html": [
       "<div>\n",
       "<style scoped>\n",
       "    .dataframe tbody tr th:only-of-type {\n",
       "        vertical-align: middle;\n",
       "    }\n",
       "\n",
       "    .dataframe tbody tr th {\n",
       "        vertical-align: top;\n",
       "    }\n",
       "\n",
       "    .dataframe thead th {\n",
       "        text-align: right;\n",
       "    }\n",
       "</style>\n",
       "<table border=\"1\" class=\"dataframe\">\n",
       "  <thead>\n",
       "    <tr style=\"text-align: right;\">\n",
       "      <th></th>\n",
       "      <th>date</th>\n",
       "      <th>market</th>\n",
       "      <th>commodity</th>\n",
       "      <th>price</th>\n",
       "      <th>usdprice</th>\n",
       "    </tr>\n",
       "  </thead>\n",
       "  <tbody>\n",
       "    <tr>\n",
       "      <th>count</th>\n",
       "      <td>133138</td>\n",
       "      <td>133138</td>\n",
       "      <td>133138</td>\n",
       "      <td>133138</td>\n",
       "      <td>133138</td>\n",
       "    </tr>\n",
       "    <tr>\n",
       "      <th>unique</th>\n",
       "      <td>332</td>\n",
       "      <td>157</td>\n",
       "      <td>24</td>\n",
       "      <td>23995</td>\n",
       "      <td>2874</td>\n",
       "    </tr>\n",
       "    <tr>\n",
       "      <th>top</th>\n",
       "      <td>2021-06-15</td>\n",
       "      <td>Mumbai</td>\n",
       "      <td>Rice</td>\n",
       "      <td>16.0</td>\n",
       "      <td>0.27</td>\n",
       "    </tr>\n",
       "    <tr>\n",
       "      <th>freq</th>\n",
       "      <td>2941</td>\n",
       "      <td>4112</td>\n",
       "      <td>10573</td>\n",
       "      <td>1393</td>\n",
       "      <td>1241</td>\n",
       "    </tr>\n",
       "  </tbody>\n",
       "</table>\n",
       "</div>"
      ],
      "text/plain": [
       "              date  market commodity   price usdprice\n",
       "count       133138  133138    133138  133138   133138\n",
       "unique         332     157        24   23995     2874\n",
       "top     2021-06-15  Mumbai      Rice    16.0     0.27\n",
       "freq          2941    4112     10573    1393     1241"
      ]
     },
     "execution_count": 34,
     "metadata": {},
     "output_type": "execute_result"
    }
   ],
   "source": [
    "data.describe()"
   ]
  },
  {
   "cell_type": "code",
   "execution_count": 35,
   "id": "c08e87db",
   "metadata": {},
   "outputs": [
    {
     "data": {
      "text/plain": [
       "date         0\n",
       "market       0\n",
       "commodity    0\n",
       "price        0\n",
       "usdprice     0\n",
       "dtype: int64"
      ]
     },
     "execution_count": 35,
     "metadata": {},
     "output_type": "execute_result"
    }
   ],
   "source": [
    "data.isnull().sum()"
   ]
  },
  {
   "cell_type": "code",
   "execution_count": 36,
   "id": "5973814a",
   "metadata": {},
   "outputs": [
    {
     "name": "stdout",
     "output_type": "stream",
     "text": [
      "<class 'pandas.core.frame.DataFrame'>\n",
      "RangeIndex: 133138 entries, 0 to 133137\n",
      "Data columns (total 5 columns):\n",
      " #   Column     Non-Null Count   Dtype \n",
      "---  ------     --------------   ----- \n",
      " 0   date       133138 non-null  object\n",
      " 1   market     133138 non-null  object\n",
      " 2   commodity  133138 non-null  object\n",
      " 3   price      133138 non-null  object\n",
      " 4   usdprice   133138 non-null  object\n",
      "dtypes: object(5)\n",
      "memory usage: 5.1+ MB\n"
     ]
    }
   ],
   "source": [
    "data.info()"
   ]
  },
  {
   "cell_type": "code",
   "execution_count": 37,
   "id": "c286d44c",
   "metadata": {},
   "outputs": [
    {
     "ename": "NameError",
     "evalue": "name 'dfsplit' is not defined",
     "output_type": "error",
     "traceback": [
      "\u001b[0;31m---------------------------------------------------------------------------\u001b[0m",
      "\u001b[0;31mNameError\u001b[0m                                 Traceback (most recent call last)",
      "Input \u001b[0;32mIn [37]\u001b[0m, in \u001b[0;36m<cell line: 1>\u001b[0;34m()\u001b[0m\n\u001b[0;32m----> 1\u001b[0m \u001b[43mdfsplit\u001b[49m[[\u001b[38;5;124m'\u001b[39m\u001b[38;5;124mDD\u001b[39m\u001b[38;5;124m'\u001b[39m,\u001b[38;5;124m'\u001b[39m\u001b[38;5;124mMM\u001b[39m\u001b[38;5;124m'\u001b[39m,\u001b[38;5;124m'\u001b[39m\u001b[38;5;124mYYYY\u001b[39m\u001b[38;5;124m'\u001b[39m]] \u001b[38;5;241m=\u001b[39m data[\u001b[38;5;124m'\u001b[39m\u001b[38;5;124mdate\u001b[39m\u001b[38;5;124m'\u001b[39m]\u001b[38;5;241m.\u001b[39mstr\u001b[38;5;241m.\u001b[39msplit(\u001b[38;5;124m'\u001b[39m\u001b[38;5;124m-\u001b[39m\u001b[38;5;124m'\u001b[39m,expand\u001b[38;5;241m=\u001b[39m\u001b[38;5;28;01mTrue\u001b[39;00m)\n\u001b[1;32m      2\u001b[0m dfsplit[\u001b[38;5;124m'\u001b[39m\u001b[38;5;124mprice\u001b[39m\u001b[38;5;124m'\u001b[39m]\u001b[38;5;241m=\u001b[39mdata[\u001b[38;5;124m'\u001b[39m\u001b[38;5;124mprice\u001b[39m\u001b[38;5;124m'\u001b[39m]\n",
      "\u001b[0;31mNameError\u001b[0m: name 'dfsplit' is not defined"
     ]
    }
   ],
   "source": [
    "dfsplit[['DD','MM','YYYY']] = data['date'].str.split('-',expand=True)\n",
    "dfsplit['price']=data['price']"
   ]
  },
  {
   "cell_type": "code",
   "execution_count": null,
   "id": "b62c6ede",
   "metadata": {},
   "outputs": [],
   "source": [
    "dfsplit.head()\n",
    "dfsplit.dtypes"
   ]
  },
  {
   "cell_type": "code",
   "execution_count": 93,
   "id": "a388f456",
   "metadata": {},
   "outputs": [],
   "source": [
    "dfsplit['price']= pd.to_numeric(dfsplit['price'])\n",
    "dfsplit['MM']= pd.to_numeric(dfsplit['MM'])\n",
    "dfsplit['YYYY']= pd.to_numeric(dfsplit['YYYY'])\n",
    "dfsplit['DD']= pd.to_numeric(dfsplit['DD'])"
   ]
  },
  {
   "cell_type": "code",
   "execution_count": 1,
   "id": "31b0eee4",
   "metadata": {},
   "outputs": [
    {
     "ename": "NameError",
     "evalue": "name 'dfsplit' is not defined",
     "output_type": "error",
     "traceback": [
      "\u001b[0;31m---------------------------------------------------------------------------\u001b[0m",
      "\u001b[0;31mNameError\u001b[0m                                 Traceback (most recent call last)",
      "Input \u001b[0;32mIn [1]\u001b[0m, in \u001b[0;36m<cell line: 1>\u001b[0;34m()\u001b[0m\n\u001b[0;32m----> 1\u001b[0m dfsplit[\u001b[38;5;124m'\u001b[39m\u001b[38;5;124mut\u001b[39m\u001b[38;5;124m'\u001b[39m]\u001b[38;5;241m=\u001b[39m\u001b[43mdfsplit\u001b[49m[\u001b[38;5;124m'\u001b[39m\u001b[38;5;124mDD\u001b[39m\u001b[38;5;124m'\u001b[39m]\u001b[38;5;241m*\u001b[39m\u001b[38;5;241m10000000\u001b[39m\u001b[38;5;241m+\u001b[39mdfsplit[\u001b[38;5;124m'\u001b[39m\u001b[38;5;124mMM\u001b[39m\u001b[38;5;124m'\u001b[39m]\u001b[38;5;241m*\u001b[39m\u001b[38;5;241m100\u001b[39m\u001b[38;5;241m+\u001b[39mdfsplit[\u001b[38;5;124m'\u001b[39m\u001b[38;5;124mYYYY\u001b[39m\u001b[38;5;124m'\u001b[39m]\n",
      "\u001b[0;31mNameError\u001b[0m: name 'dfsplit' is not defined"
     ]
    }
   ],
   "source": [
    "dfsplit['ut']=dfsplit['DD']*10000000+dfsplit['MM']*100+dfsplit['YYYY']\n"
   ]
  },
  {
   "cell_type": "code",
   "execution_count": null,
   "id": "bc9d64aa",
   "metadata": {},
   "outputs": [],
   "source": [
    "import matplotlib.pyplot as plt\n",
    "x = dfsplit.ut\n",
    "y = dfsplit.price\n",
    "\n",
    "plt.scatter(x,y)\n",
    "plt.show()"
   ]
  },
  {
   "cell_type": "code",
   "execution_count": 28,
   "id": "9142cce3",
   "metadata": {},
   "outputs": [
    {
     "ename": "NameError",
     "evalue": "name 'new_df' is not defined",
     "output_type": "error",
     "traceback": [
      "\u001b[0;31m---------------------------------------------------------------------------\u001b[0m",
      "\u001b[0;31mNameError\u001b[0m                                 Traceback (most recent call last)",
      "Input \u001b[0;32mIn [28]\u001b[0m, in \u001b[0;36m<cell line: 1>\u001b[0;34m()\u001b[0m\n\u001b[0;32m----> 1\u001b[0m new_df\u001b[38;5;241m.\u001b[39mdate \u001b[38;5;241m=\u001b[39m pd\u001b[38;5;241m.\u001b[39mto_datetime(\u001b[43mnew_df\u001b[49m\u001b[38;5;241m.\u001b[39mdate, \u001b[38;5;28mformat\u001b[39m\u001b[38;5;241m=\u001b[39m\u001b[38;5;124m'\u001b[39m\u001b[38;5;124m%\u001b[39m\u001b[38;5;124mY-\u001b[39m\u001b[38;5;124m%\u001b[39m\u001b[38;5;124mm-\u001b[39m\u001b[38;5;132;01m%d\u001b[39;00m\u001b[38;5;124m'\u001b[39m)\n\u001b[1;32m      2\u001b[0m new_df\u001b[38;5;241m.\u001b[39mscore \u001b[38;5;241m=\u001b[39m new_df\u001b[38;5;241m.\u001b[39mscore\u001b[38;5;241m.\u001b[39mastype(\u001b[38;5;28mint\u001b[39m)\n\u001b[1;32m      3\u001b[0m new_df\n",
      "\u001b[0;31mNameError\u001b[0m: name 'new_df' is not defined"
     ]
    }
   ],
   "source": [
    "new_df.date = pd.to_datetime(new_df.date, format='%Y-%m-%d')\n",
    "new_df.score = new_df.score.astype(int)\n",
    "new_df"
   ]
  },
  {
   "cell_type": "code",
   "execution_count": null,
   "id": "03dfcbc2",
   "metadata": {},
   "outputs": [],
   "source": []
  }
 ],
 "metadata": {
  "kernelspec": {
   "display_name": "Python 3 (ipykernel)",
   "language": "python",
   "name": "python3"
  },
  "language_info": {
   "codemirror_mode": {
    "name": "ipython",
    "version": 3
   },
   "file_extension": ".py",
   "mimetype": "text/x-python",
   "name": "python",
   "nbconvert_exporter": "python",
   "pygments_lexer": "ipython3",
   "version": "3.9.12"
  }
 },
 "nbformat": 4,
 "nbformat_minor": 5
}
